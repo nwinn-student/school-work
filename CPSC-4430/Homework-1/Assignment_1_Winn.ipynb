{
  "nbformat": 4,
  "nbformat_minor": 0,
  "metadata": {
    "colab": {
      "provenance": []
    },
    "kernelspec": {
      "name": "python3",
      "display_name": "Python 3"
    },
    "language_info": {
      "name": "python"
    }
  },
  "cells": [
    {
      "cell_type": "markdown",
      "source": [
        "**Imports**"
      ],
      "metadata": {
        "id": "ZKeBeX-GfBPh"
      }
    },
    {
      "cell_type": "code",
      "source": [
        "import numpy as np\n",
        "import matplotlib.pyplot as plt\n",
        "\n",
        "import random\n",
        "\n",
        "from sklearn.neighbors import KNeighborsClassifier\n",
        "from sklearn import svm\n",
        "from sklearn.neural_network import MLPClassifier\n",
        "\n",
        "knn_model = KNeighborsClassifier()\n",
        "svm_model = svm.SVC()\n",
        "mlp_nn = MLPClassifier()"
      ],
      "metadata": {
        "id": "3FZ2t0hokfLD"
      },
      "execution_count": 69,
      "outputs": []
    },
    {
      "cell_type": "markdown",
      "source": [
        "Open Files / Preprocess Data"
      ],
      "metadata": {
        "id": "FISd1DyckpwZ"
      }
    },
    {
      "cell_type": "code",
      "source": [
        "english_file = open(\"english.txt\",encoding='utf8')\n",
        "\n",
        "english_lines = english_file.readlines()\n",
        "english_file.close()\n",
        "print(english_lines[20:50])\n",
        "\n",
        "print([s.replace('\\n', '') for s in english_lines[20:50]])\n"
      ],
      "metadata": {
        "id": "gQPIidsYkpb1",
        "colab": {
          "base_uri": "https://localhost:8080/"
        },
        "outputId": "80758eda-2112-4e79-e729-abcc9f73be52"
      },
      "execution_count": 70,
      "outputs": [
        {
          "output_type": "stream",
          "name": "stdout",
          "text": [
            "['abaci\\n', 'aback\\n', 'abacs\\n', 'abactinal\\n', 'abactinally\\n', 'abactor\\n', 'abactors\\n', 'abacus\\n', 'abacuses\\n', 'abadan\\n', 'abaddon\\n', 'abaft\\n', 'abalone\\n', 'abalones\\n', 'abampere\\n', 'abamperes\\n', 'aband\\n', 'abandon\\n', 'abandoned\\n', 'abandonedly\\n', 'abandonee\\n', 'abandonees\\n', 'abandoning\\n', 'abandonment\\n', 'abandonments\\n', 'abandons\\n', 'abas\\n', 'abase\\n', 'abased\\n', 'abasement\\n']\n",
            "['abaci', 'aback', 'abacs', 'abactinal', 'abactinally', 'abactor', 'abactors', 'abacus', 'abacuses', 'abadan', 'abaddon', 'abaft', 'abalone', 'abalones', 'abampere', 'abamperes', 'aband', 'abandon', 'abandoned', 'abandonedly', 'abandonee', 'abandonees', 'abandoning', 'abandonment', 'abandonments', 'abandons', 'abas', 'abase', 'abased', 'abasement']\n"
          ]
        }
      ]
    },
    {
      "cell_type": "code",
      "source": [
        "german_file = open(\"german.txt\",encoding='latin')\n",
        "\n",
        "german_lines = german_file.readlines()\n",
        "german_file.close()\n",
        "print(german_lines[20:50])\n",
        "\n",
        "print([s.replace('\\n', '') for s in german_lines[20:50]])\n"
      ],
      "metadata": {
        "colab": {
          "base_uri": "https://localhost:8080/"
        },
        "id": "CdDc7ZLOmQq_",
        "outputId": "64febdce-66ac-41c6-9e92-67e884b4a044"
      },
      "execution_count": 71,
      "outputs": [
        {
          "output_type": "stream",
          "name": "stdout",
          "text": [
            "['Abbaus\\n', 'Abberufungen\\n', 'Abbestellung\\n', 'Abbestellungen\\n', 'Abbild\\n', 'Abbilder\\n', 'Abbildern\\n', 'Abbildes\\n', 'Abbildung\\n', 'Abbildungen\\n', 'Abblendlicht\\n', 'Abblendlichter\\n', 'Abblendlichtern\\n', 'Abblendlichtes\\n', 'Abblendschaltern\\n', 'Abblendschalters\\n', 'Abbruch\\n', 'Abbrucharbeit\\n', 'Abbruchbedingung\\n', 'Abbruchobjekte\\n', 'Abbruchobjektes\\n', 'Abbruchs\\n', 'Abbruchunternehmens\\n', 'Abbruchunternehmer\\n', 'Abbruchunternehmers\\n', 'Abbuchungen\\n', 'Abc\\n', 'Abdankung\\n', 'Abdankungen\\n', 'Abdeckern\\n']\n",
            "['Abbaus', 'Abberufungen', 'Abbestellung', 'Abbestellungen', 'Abbild', 'Abbilder', 'Abbildern', 'Abbildes', 'Abbildung', 'Abbildungen', 'Abblendlicht', 'Abblendlichter', 'Abblendlichtern', 'Abblendlichtes', 'Abblendschaltern', 'Abblendschalters', 'Abbruch', 'Abbrucharbeit', 'Abbruchbedingung', 'Abbruchobjekte', 'Abbruchobjektes', 'Abbruchs', 'Abbruchunternehmens', 'Abbruchunternehmer', 'Abbruchunternehmers', 'Abbuchungen', 'Abc', 'Abdankung', 'Abdankungen', 'Abdeckern']\n"
          ]
        }
      ]
    },
    {
      "cell_type": "code",
      "source": [
        "# Italian Source\n",
        "# https://github.com/napolux/paroleitaliane/blob/master/paroleitaliane/9000_nomi_propri.txt\n",
        "\n",
        "italian_file = open(\"9000_nomi_propri.txt\", encoding='latin')\n",
        "\n",
        "italian_lines = italian_file.readlines()\n",
        "italian_file.close()\n",
        "print(italian_lines[20:50])\n",
        "\n",
        "print([s.replace('\\n', '') for s in italian_lines[20:50]])\n"
      ],
      "metadata": {
        "colab": {
          "base_uri": "https://localhost:8080/"
        },
        "id": "astQ6ngky7VB",
        "outputId": "4a268fe8-a9cf-4af0-ebfa-a28167ffbca7"
      },
      "execution_count": 121,
      "outputs": [
        {
          "output_type": "stream",
          "name": "stdout",
          "text": [
            "['abrama\\n', 'abramina\\n', 'abramino\\n', 'abramo\\n', 'accorso\\n', 'accursa\\n', 'accursia\\n', 'accursio\\n', 'accurso\\n', 'acheropita\\n', 'achilla\\n', 'achille\\n', 'achillea\\n', 'achilleo\\n', 'achillina\\n', 'achiropita\\n', 'acilia\\n', 'acilio\\n', 'acquisto\\n', 'acrisio\\n', 'ada\\n', 'adalberta\\n', 'adalberto\\n', 'adalciso\\n', 'adalgerio\\n', 'adalgisa\\n', 'adalgisio\\n', 'adalgiso\\n', 'adalia\\n', 'adalinda\\n']\n",
            "['abrama', 'abramina', 'abramino', 'abramo', 'accorso', 'accursa', 'accursia', 'accursio', 'accurso', 'acheropita', 'achilla', 'achille', 'achillea', 'achilleo', 'achillina', 'achiropita', 'acilia', 'acilio', 'acquisto', 'acrisio', 'ada', 'adalberta', 'adalberto', 'adalciso', 'adalgerio', 'adalgisa', 'adalgisio', 'adalgiso', 'adalia', 'adalinda']\n"
          ]
        }
      ]
    },
    {
      "cell_type": "markdown",
      "source": [
        "Set up Testing and Training datasets"
      ],
      "metadata": {
        "id": "EqjB4np8nusT"
      }
    },
    {
      "cell_type": "code",
      "source": [
        "testing_dataset = []\n",
        "training_dataset = []\n",
        "target_dataset = []\n",
        "target_testing_dateset = []\n",
        "\n",
        "for line in english_lines:\n",
        "    line = line.replace('\\n', '')\n",
        "    if random.randrange(0, 11) > 2:\n",
        "      if len(line) == 5:\n",
        "        training_dataset.append([ord(char) for char in line])\n",
        "        target_dataset.append(0)\n",
        "    else:\n",
        "      if len(line) == 5:\n",
        "          testing_dataset.append([ord(char) for char in line])\n",
        "          target_testing_dateset.append(0)\n",
        "\n",
        "for line in german_lines:\n",
        "    line = line.replace('\\n', '')\n",
        "\n",
        "    if random.randrange(0, 11) > 2:\n",
        "      if len(line) == 5:\n",
        "        training_dataset.append([ord(char) for char in line])\n",
        "        target_dataset.append(1)\n",
        "    else:\n",
        "      if len(line) == 5:\n",
        "          testing_dataset.append([ord(char) for char in line])\n",
        "          target_testing_dateset.append(1)\n",
        "\n",
        "for line in italian_lines:\n",
        "    line = line.replace('\\n', '')\n",
        "\n",
        "    if random.randrange(0, 11) > 2:\n",
        "      if len(line) == 5:\n",
        "        training_dataset.append([ord(char) for char in line])\n",
        "        target_dataset.append(2)\n",
        "    else:\n",
        "      if len(line) == 5:\n",
        "          testing_dataset.append([ord(char) for char in line])\n",
        "          target_testing_dateset.append(2)\n"
      ],
      "metadata": {
        "id": "8xvikuIKnz55"
      },
      "execution_count": 122,
      "outputs": []
    },
    {
      "cell_type": "markdown",
      "source": [
        "Fit and Predict"
      ],
      "metadata": {
        "id": "jfeAbu-lqs6P"
      }
    },
    {
      "cell_type": "code",
      "source": [
        "# Train using training dataset\n",
        "knn_model.fit(training_dataset, target_dataset)\n",
        "svm_model.fit(training_dataset, target_dataset)\n",
        "mlp_nn.fit(training_dataset, target_dataset)\n",
        "\n",
        "# Predict using testing dataset\n",
        "knn_result = knn_model.predict(testing_dataset)\n",
        "svm_result = svm_model.predict(testing_dataset)\n",
        "mlp_result = mlp_nn.predict(testing_dataset)"
      ],
      "metadata": {
        "id": "yrmDAv3MqyFg"
      },
      "execution_count": 123,
      "outputs": []
    },
    {
      "cell_type": "markdown",
      "source": [
        "Comparing Predicted to Actual"
      ],
      "metadata": {
        "id": "uzqoWcrdwKQg"
      }
    },
    {
      "cell_type": "code",
      "source": [
        "length_testing = len(testing_dataset)\n",
        "\n",
        "# Comparing KNN prediction to the actual result\n",
        "count_knn = 0\n",
        "for x in range(len(knn_result)):\n",
        "  if knn_result[x] == target_testing_dateset[x]:\n",
        "    count_knn += 1\n",
        "\n",
        "# Comparing SVM prediction to the actual result\n",
        "count_svm = 0\n",
        "for x in range(len(svm_result)):\n",
        "  if svm_result[x] == target_testing_dateset[x]:\n",
        "    count_svm += 1\n",
        "\n",
        "# Comparing MLP prediction to the actual result\n",
        "count_mlp = 0\n",
        "for x in range(len(mlp_result)):\n",
        "  if mlp_result[x] == target_testing_dateset[x]:\n",
        "    count_mlp += 1\n",
        "\n",
        "print(count_mlp / length_testing)"
      ],
      "metadata": {
        "colab": {
          "base_uri": "https://localhost:8080/"
        },
        "id": "DPerQzuwwJpc",
        "outputId": "8c00287e-4761-4f80-f62b-5baed6d57628"
      },
      "execution_count": 124,
      "outputs": [
        {
          "output_type": "stream",
          "name": "stdout",
          "text": [
            "0.8421911421911422\n"
          ]
        }
      ]
    },
    {
      "cell_type": "code",
      "source": [
        "# Label text for each graph\n",
        "labels = (\"KNN\", \"SVM\", \"MLP\")\n",
        "\n",
        "# Numbers that you want the bars to represent\n",
        "value = [count_knn/length_testing, count_svm/length_testing, count_mlp/length_testing]\n",
        "\n",
        "# Title of the plot\n",
        "plt.title(\"Model Accuracy\")\n",
        "\n",
        "# Label for the x values of the bar graph\n",
        "plt.xlabel(\"Accuracy\")\n",
        "\n",
        "# Drawing the bar graph\n",
        "y_pos = np.arange(len(labels))\n",
        "plt.barh(y_pos, value, align=\"center\", alpha=0.5)\n",
        "plt.yticks(y_pos, labels)\n",
        "\n",
        "# Display the graph\n",
        "plt.show()"
      ],
      "metadata": {
        "colab": {
          "base_uri": "https://localhost:8080/",
          "height": 472
        },
        "id": "yfr0lPdqqaQe",
        "outputId": "48069bc2-5f18-4241-dea3-da274ba29b7f"
      },
      "execution_count": 125,
      "outputs": [
        {
          "output_type": "display_data",
          "data": {
            "text/plain": [
              "<Figure size 640x480 with 1 Axes>"
            ],
            "image/png": "[encoded data removed]"
          },
          "metadata": {}
        }
      ]
    }
  ]
}