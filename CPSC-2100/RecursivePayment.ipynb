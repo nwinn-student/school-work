{
  "nbformat": 4,
  "nbformat_minor": 0,
  "metadata": {
    "colab": {
      "provenance": []
    },
    "kernelspec": {
      "name": "python3",
      "display_name": "Python 3"
    },
    "language_info": {
      "name": "python"
    }
  },
  "cells": [
    {
      "cell_type": "markdown",
      "source": [
        "In Problem 3, we designed a bisection search to find the monthly minimal monthly payment to pay off the debt in 12 months.  Here, please revise your bisection search solution using a recursive function. "
      ],
      "metadata": {
        "id": "_4XCKfvHxm2g"
      }
    },
    {
      "cell_type": "code",
      "execution_count": 54,
      "metadata": {
        "colab": {
          "base_uri": "https://localhost:8080/"
        },
        "id": "9ytS8pGAxSNT",
        "outputId": "76dfc753-3cbe-436e-9d98-1091965e728e"
      },
      "outputs": [
        {
          "output_type": "stream",
          "name": "stdout",
          "text": [
            "The lowest monthly payment that will pay off all debts in under a year is $451.63.\n"
          ]
        }
      ],
      "source": [
        "balance = 5000\n",
        "monthNumber = 12\n",
        "annualInterestRate = 0.18\n",
        "low = balance / monthNumber\n",
        "high = balance * (1 + annualInterestRate)\n",
        "payment = (low + high)/2\n",
        "testing = 0\n",
        "BOUNDS = 0.01 ##Change to make the payment more[.01] or less accurate [1]\n",
        "\n",
        "def debt(months, bal, pay):\n",
        "  if months == 0:\n",
        "    if testing > 0:\n",
        "      print(payment)\n",
        "    return bal\n",
        "  else:\n",
        "    bal -= payment\n",
        "    if testing > 0:\n",
        "      print('Month: ' + str(months) + '\\nAfter Payment: ' , + str(round(bal, 2)) + '.')\n",
        "    bal += bal*(annualInterestRate/12)\n",
        "    if testing > 0:\n",
        "       print('After Interest Rate: ' + str(round(bal, 2)))\n",
        "    return debt(months-1, bal, pay)\n",
        "\n",
        "while True:\n",
        "  remainingBal = debt(monthNumber, balance, payment)\n",
        "  if BOUNDS >= remainingBal > 0:\n",
        "    print('The lowest monthly payment that will pay off all debts in under a year is $' + str(round(payment, 2)) + '.')\n",
        "    if testing > 0:\n",
        "      print(' Exact Payment: ' , payment)\n",
        "    break\n",
        "  \n",
        "  elif remainingBal < BOUNDS:\n",
        "    high = payment\n",
        "    if testing > 0:\n",
        "      print(' High Payment: ' + str(round(payment, 2)),\n",
        "            'Low Payment: ' + str(round(low, 2)))\n",
        "  elif remainingBal > BOUNDS:\n",
        "    low = payment\n",
        "    if testing > 0:\n",
        "      print(' Low Payment: ' + str(round(payment, 2)),\n",
        "            ' High Payment: ' + str(round(high, 2)))\n",
        "  payment = (low + high) / 2\n"
      ]
    }
  ]
}