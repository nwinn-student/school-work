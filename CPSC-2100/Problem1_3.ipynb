{
  "nbformat": 4,
  "nbformat_minor": 0,
  "metadata": {
    "colab": {
      "name": "Problem1.3.ipynb",
      "provenance": [],
      "collapsed_sections": []
    },
    "kernelspec": {
      "name": "python3",
      "display_name": "Python 3"
    },
    "language_info": {
      "name": "python"
    }
  },
  "cells": [
    {
      "cell_type": "markdown",
      "source": [
        "Problem 1.3:\n",
        "\n",
        "Assume s is a string of lower case characters.\n",
        "\n",
        "Write a program that prints the longest substring of s in which the letters occur in alphabetical order. Please use s = 'azcbobobegghakl' to test your codes. Your program should print\n",
        "\n",
        "Longest substring in alphabetical order is: beggh\n",
        "In the case of ties, print the first substring. For example, if s = 'abcbcd', then your program should print\n",
        "\n",
        "Longest substring in alphabetical order is: abc"
      ],
      "metadata": {
        "id": "bddITpHqvM3s"
      }
    },
    {
      "cell_type": "code",
      "execution_count": 75,
      "metadata": {
        "id": "EXPucWK_vGCh",
        "colab": {
          "base_uri": "https://localhost:8080/"
        },
        "outputId": "0432af6b-27c6-4c5d-a24f-c872dd366723"
      },
      "outputs": [
        {
          "output_type": "stream",
          "name": "stdout",
          "text": [
            "0 0 az\n",
            "Broke at: 0 1\n",
            "Broke at: 1 1\n",
            "Broke at: 2 2\n",
            "3 3 bo\n",
            "Broke at: 3 4\n",
            "Broke at: 4 4\n",
            "5 5 bo\n",
            "Broke at: 5 6\n",
            "Broke at: 6 6\n",
            "7 7 be\n",
            "7 8 beg\n",
            "7 9 begg\n",
            "7 10 beggh\n",
            "Broke at: 7 11\n",
            "8 8 eg\n",
            "8 9 egg\n",
            "8 10 eggh\n",
            "Broke at: 8 11\n",
            "9 9 gg\n",
            "9 10 ggh\n",
            "Broke at: 9 11\n",
            "10 10 gh\n",
            "Broke at: 10 11\n",
            "Broke at: 11 11\n",
            "12 12 ak\n",
            "12 13 akl\n",
            "13 13 kl\n",
            "Longest substring in alphabetical order is: beggh\n"
          ]
        }
      ],
      "source": [
        "s = 'azcbobobegghakl'\n",
        "longSub = ''\n",
        "sub = ''\n",
        "testing = 1\n",
        "\n",
        "for char in range(len(s)):\n",
        "  for chars in range(char, len(s) - 1):\n",
        "    if s[chars] <= s[chars + 1]:\n",
        "      sub = s[char:chars + 2]\n",
        "      if testing > 0:\n",
        "        print(str(char), str(chars), sub)\n",
        "      if len(sub) > len(longSub):\n",
        "        longSub = sub\n",
        "    else:\n",
        "      if testing > 0:\n",
        "        print('Broke at: ' + str(char), str(chars))\n",
        "      break\n",
        "\n",
        "print('Longest substring in alphabetical order is: ' + str(longSub))"
      ]
    }
  ]
}