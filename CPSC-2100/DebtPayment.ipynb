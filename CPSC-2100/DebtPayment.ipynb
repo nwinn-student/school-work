{
  "nbformat": 4,
  "nbformat_minor": 0,
  "metadata": {
    "colab": {
      "provenance": []
    },
    "kernelspec": {
      "name": "python3",
      "display_name": "Python 3"
    },
    "language_info": {
      "name": "python"
    }
  },
  "cells": [
    {
      "cell_type": "markdown",
      "source": [
        "Problem 1 - Paying Debt off in a Year\n",
        "\n",
        "\n",
        "Write a program to calculate the credit card balance after one year if a person only pays the 2% minimum monthly payment required by the credit card company each month.\n",
        "\n",
        "The following variables contain values as described below:\n",
        "\n",
        "balance - the outstanding balance on the credit card\n",
        "\n",
        "annualInterestRate - annual interest rate as a decimal\n",
        "\n",
        "monthlyPaymentRate - minimum monthly payment rate as a decimal\n",
        "\n",
        "For each month, calculate statements on the monthly payment and remaining balance. At the end of 12 months, print out the remaining balance. Be sure to print out no more than two decimal digits of accuracy - so print\n",
        "\n",
        " \n",
        "\n",
        "Remaining balance: 813.41\n",
        " \n",
        "\n",
        "instead of\n",
        "\n",
        " \n",
        "\n",
        "Remaining balance: 813.4141998135 \n",
        " \n",
        "\n",
        "So your program only prints out one thing: the remaining balance at the end of the year in the format:\n",
        "\n",
        " \n",
        "\n",
        "Remaining balance: 4784.0\n",
        " \n",
        "\n",
        "A summary of the required math is found below:\n",
        "\n",
        "Monthly interest rate= (Annual interest rate) / 12.0\n",
        "\n",
        "Minimum monthly payment = (Minimum monthly payment rate) x (Previous balance)\n",
        "\n",
        "Monthly unpaid balance = (Previous balance) - (Minimum monthly payment)\n",
        "\n",
        "Updated balance each month = (Monthly unpaid balance) + (Monthly interest rate x Monthly unpaid balance)"
      ],
      "metadata": {
        "id": "z_eRFC0sXjDl"
      }
    },
    {
      "cell_type": "code",
      "source": [
        "balance = 5000\n",
        "annualInterestRate = 0.18\n",
        "monthlyPaymentRate = 0.02\n",
        "mnthInt = (annualInterestRate / 12)\n",
        "testing = 0\n",
        "\n",
        "for mnth in range(12):\n",
        "  print('Month:' + str(mnth + 1) + '\\n' \n",
        "        'Balance: ' + str(round(balance, 2)))\n",
        "\n",
        "  minPay = balance * monthlyPaymentRate\n",
        "  unpaidBal = balance - minPay\n",
        "  balance = unpaidBal + (mnthInt * unpaidBal)\n",
        "  print('Minimum Payment: ' + str(round(minPay, 2)) + '\\n'\n",
        "  \n",
        "        'Unpaid Balance: ' + str(round(unpaidBal, 2)) + '\\n'\n",
        "\n",
        "        'Interest: ' + str(round((mnthInt * unpaidBal), 2)) + '\\n'\n",
        "\n",
        "        'Updated Balance: ' + str(round(balance, 2)) + '\\n')\n",
        "\n",
        "print('Remaining Balance: ' + str(round(balance, 2)))"
      ],
      "metadata": {
        "id": "E7rXK8k9Xv8T"
      },
      "execution_count": null,
      "outputs": []
    },
    {
      "cell_type": "markdown",
      "source": [
        "Problem 2 - Paying Debt Off in a Year\n",
        "\n",
        "Now write a program that calculates the minimum fixed monthly payment needed in order pay off a credit card balance within 12 months. By a fixed monthly payment, we mean a single number which does not change each month, but instead is a constant amount that will be paid each month.\n",
        "\n",
        "In this problem, we will not be dealing with a minimum monthly payment rate.\n",
        "\n",
        "The following variables contain values as described below:\n",
        "\n",
        "balance - the outstanding balance on the credit card\n",
        "\n",
        "annualInterestRate - annual interest rate as a decimal\n",
        "\n",
        "The program should print out one line: the lowest monthly payment that will pay off all debt in under 1 year, for example:\n",
        "\n",
        " \n",
        "\n",
        "Lowest Payment: 180 \n",
        " \n",
        "\n",
        "Assume that the interest is compounded monthly according to the balance at the end of the month (after the payment for that month is made). The monthly payment must be a multiple of $10 and is the same for all months. Notice that it is possible for the balance to become negative using this payment scheme, which is okay. A summary of the required math is found below:\n",
        "\n",
        "Monthly interest rate = (Annual interest rate) / 12.0\n",
        "\n",
        "Monthly unpaid balance = (Previous balance) - (Minimum fixed monthly payment)\n",
        "\n",
        "Updated balance each month = (Monthly unpaid balance) + (Monthly interest rate x Monthly unpaid balance)"
      ],
      "metadata": {
        "id": "-0tX_YrtXoNP"
      }
    },
    {
      "cell_type": "code",
      "source": [
        "payment = 10\n",
        "balance = 5000\n",
        "annualInterestRate = 0.18\n",
        "remainingBal = balance\n",
        "\n",
        "testing = 0\n",
        "while True:\n",
        "  for month in range(12):\n",
        "    remainingBal -= payment\n",
        "    if testing > 0:\n",
        "      print('Month: ' + str(month) + '\\nAfter Payment: ' , remainingBal)\n",
        "    remainingBal += remainingBal*(annualInterestRate/12)\n",
        "    if testing > 0:\n",
        "       print('After Interest Rate: ' , remainingBal)\n",
        "  \n",
        "  if remainingBal > 0:\n",
        "    payment += 10\n",
        "    if testing > 0:\n",
        "      print(' Payment: ' , payment)\n",
        "    remainingBal = balance\n",
        "  else:\n",
        "    break\n",
        "\n",
        "print('The lowest monthly payment that will pay off all debts in under a year is $' + str(payment) + '.')"
      ],
      "metadata": {
        "colab": {
          "base_uri": "https://localhost:8080/"
        },
        "id": "35u34gWmXxCP",
        "outputId": "bef2248e-87bf-474b-9613-2bbc1997fd9e"
      },
      "execution_count": 90,
      "outputs": [
        {
          "output_type": "stream",
          "name": "stdout",
          "text": [
            "The lowest monthly payment that will pay off all debts in under a year is $460.\n"
          ]
        }
      ]
    },
    {
      "cell_type": "markdown",
      "source": [
        "Problem 3 - Using Bisection Search to Make the Program Faster\n",
        "0.0/20.0 points (graded)\n",
        "You'll notice that in Problem 2, your monthly payment had to be a multiple of $10. Why did we make it that way? You can try running your code locally so that the payment can be any dollar and cent amount (in other words, the monthly payment is a multiple of $0.01). Does your code still work? It should, but you may notice that your code runs more slowly, especially in cases with very large balances and interest rates. (Note: when your code is running on our servers, there are limits on the amount of computing time each submission is allowed, so your observations from running this experiment on the grading system might be limited to an error message complaining about too much time taken.)\n",
        "\n",
        "Well then, how can we calculate a more accurate fixed monthly payment than we did in Problem 2 without running into the problem of slow code? We can make this program run faster using a technique introduced in lecture - bisection search!\n",
        "\n",
        "The following variables contain values as described below:\n",
        "\n",
        "balance - the outstanding balance on the credit card\n",
        "\n",
        "annualInterestRate - annual interest rate as a decimal\n",
        "\n",
        "To recap the problem: we are searching for the smallest monthly payment such that we can pay off the entire balance within a year. What is a reasonable lower bound for this payment value? $0 is the obvious anwer, but you can do better than that. If there was no interest, the debt can be paid off by monthly payments of one-twelfth of the original balance, so we must pay at least this much every month. One-twelfth of the original balance is a good lower bound.\n",
        "\n",
        "What is a good upper bound? Imagine that instead of paying monthly, we paid off the entire balance at the end of the year. What we ultimately pay must be greater than what we would've paid in monthly installments, because the interest was compounded on the balance we didn't pay off each month. So a good upper bound for the monthly payment would be one-twelfth of the balance, after having its interest compounded monthly for an entire year.\n",
        "\n",
        "In short:\n",
        "\n",
        "Monthly interest rate = (Annual interest rate) / 12.0\n",
        "Monthly payment lower bound = Balance / 12\n",
        "Monthly payment upper bound = (Balance x (1 + Monthly interest rate)12) / 12.0\n",
        "\n",
        "Write a program that uses these bounds and bisection search (for more info check out the Wikipedia page on bisection search (Links to an external site.)) to find the smallest monthly payment to the cent (no more multiples of $10) such that we can pay off the debt within a year. Try it out with large inputs, and notice how fast it is (try the same large inputs in your solution to Problem 2 to compare!). Produce the same return value as you did in Problem 2."
      ],
      "metadata": {
        "id": "bTjF560VXsWL"
      }
    },
    {
      "cell_type": "code",
      "source": [
        "balance = 5000\n",
        "annualInterestRate = 0.18\n",
        "low = balance / 12\n",
        "high = balance * (1 + annualInterestRate)\n",
        "payment = (low + high)/2\n",
        "testing = 0\n",
        "\n",
        "while True:\n",
        "  remainingBal = balance\n",
        "  for month in range(12):\n",
        "    remainingBal -= payment\n",
        "    if testing > 0:\n",
        "      print('Month: ' + str(month) + '\\nAfter Payment: ' , remainingBal)\n",
        "    remainingBal += remainingBal*(annualInterestRate/12)\n",
        "    if testing > 0:\n",
        "       print('After Interest Rate: ' , remainingBal)\n",
        "  \n",
        "  if 0.01 >= remainingBal > 0:\n",
        "    print('The lowest monthly payment that will pay off all debts in under a year is $' + str(round(payment, 2)) + '.')\n",
        "    if testing > 0:\n",
        "      print(' Payment: ' , payment)\n",
        "    break\n",
        "  elif remainingBal > 0.01:\n",
        "    low = payment\n",
        "    if testing > 0:\n",
        "      print(' Payment: ' , payment)\n",
        "  elif remainingBal < 0.01:\n",
        "    high = payment\n",
        "    if testing > 0:\n",
        "      print(' Payment: ' , payment)\n",
        "  payment = (low + high) / 2\n",
        "    \n",
        "\n"
      ],
      "metadata": {
        "id": "LDG5dmETXxmw"
      },
      "execution_count": null,
      "outputs": []
    }
  ]
}