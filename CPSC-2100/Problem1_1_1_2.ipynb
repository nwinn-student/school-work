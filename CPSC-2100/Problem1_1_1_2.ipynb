{
  "nbformat": 4,
  "nbformat_minor": 0,
  "metadata": {
    "colab": {
      "name": "Problem1.1-1.2.ipynb",
      "provenance": [],
      "collapsed_sections": []
    },
    "kernelspec": {
      "name": "python3",
      "display_name": "Python 3"
    },
    "language_info": {
      "name": "python"
    }
  },
  "cells": [
    {
      "cell_type": "markdown",
      "source": [
        "Problem 1.1:\n",
        "\n",
        "Assume s is a string of lower case characters.\n",
        "\n",
        "Write a program that counts up the number of vowels contained in the string s. Valid vowels are: 'a', 'e', 'i', 'o', and 'u'. Please use s = 'azcbobobegghakl' for testing.\n",
        "\n",
        "Your program should print: \"Number of vowels: 5\""
      ],
      "metadata": {
        "id": "bddITpHqvM3s"
      }
    },
    {
      "cell_type": "code",
      "execution_count": 36,
      "metadata": {
        "id": "EXPucWK_vGCh",
        "colab": {
          "base_uri": "https://localhost:8080/"
        },
        "outputId": "b9b3f14f-441e-464f-b426-4bff305ae3b3"
      },
      "outputs": [
        {
          "output_type": "stream",
          "name": "stdout",
          "text": [
            "Number of vowels: 5\n"
          ]
        }
      ],
      "source": [
        "s = 'azcbobobegghakl'\n",
        "numOfVowels = 0\n",
        "testing = 0 #0: not testing, 1+: testing\n",
        "for char in s:\n",
        "  if testing > 0:\n",
        "    print(char)\n",
        "  if char == 'a' or char == 'e' or char == 'i' or char == 'o' or char == 'u':\n",
        "    numOfVowels += 1\n",
        "print('Number of vowels: ' + str(numOfVowels))"
      ]
    },
    {
      "cell_type": "markdown",
      "source": [
        "Problem 1.2\n",
        "\n",
        "Assume s is a string of lower case characters.\n",
        "\n",
        "Write a program that prints the number of times the string 'bob' occurs in s. Please use s = 'azcbobobegghakl' testing.\n",
        "\n",
        "Your program should print: \"Number of times bob occurs is: 2\""
      ],
      "metadata": {
        "id": "oeuOQ88UvNMv"
      }
    },
    {
      "cell_type": "code",
      "source": [
        "s = 'azcbobobegghakl'\n",
        "numOfBob = 0\n",
        "testing = 0 #0: not testing, 1+: testing\n",
        "\n",
        "for char in range(len(s)):\n",
        "  if testing > 0:\n",
        "    print(s[char:char + 3])\n",
        "  if s[char:char + 3] == 'bob':\n",
        "    numOfBob += 1\n",
        "\n",
        "print('Number of times bob occurs is: '+ str(numOfBob))"
      ],
      "metadata": {
        "id": "CtUlzx0fvN5m",
        "colab": {
          "base_uri": "https://localhost:8080/"
        },
        "outputId": "f7c4dc2e-ae70-4ef1-f4ad-ee45b08e9558"
      },
      "execution_count": 42,
      "outputs": [
        {
          "output_type": "stream",
          "name": "stdout",
          "text": [
            "Number of times bob occurs is: 2\n"
          ]
        }
      ]
    }
  ]
}