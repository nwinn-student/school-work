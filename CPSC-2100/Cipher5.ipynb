{
  "nbformat": 4,
  "nbformat_minor": 0,
  "metadata": {
    "colab": {
      "provenance": [],
      "collapsed_sections": []
    },
    "kernelspec": {
      "name": "python3",
      "display_name": "Python 3"
    },
    "language_info": {
      "name": "python"
    }
  },
  "cells": [
    {
      "cell_type": "code",
      "execution_count": 112,
      "metadata": {
        "id": "vGrb-QNbMQTv"
      },
      "outputs": [],
      "source": [
        "import string\n",
        "\n",
        "### DO NOT MODIFY THIS FUNCTION ###\n",
        "def load_words(file_name):\n",
        "    '''\n",
        "    file_name (string): the name of the file containing \n",
        "    the list of words to load    \n",
        "    \n",
        "    Returns: a list of valid words. Words are strings of lowercase letters.\n",
        "    \n",
        "    Depending on the size of the word list, this function may\n",
        "    take a while to finish.\n",
        "    '''\n",
        "    print('Loading word list from file...')\n",
        "    # inFile: file\n",
        "    in_file = open(file_name, 'r')\n",
        "    # line: string\n",
        "    line = in_file.readline()\n",
        "    # word_list: list of strings\n",
        "    word_list = line.split()\n",
        "    print('  ', len(word_list), 'words loaded.')\n",
        "    in_file.close()\n",
        "    return word_list\n",
        "\n",
        "### DO NOT MODIFY THIS FUNCTION ###\n",
        "def is_word(word_list, word):\n",
        "    '''\n",
        "    Determines if word is a valid word, ignoring\n",
        "    capitalization and punctuation\n",
        "\n",
        "    word_list (list): list of words in the dictionary.\n",
        "    word (string): a possible word.\n",
        "    \n",
        "    Returns: True if word is in word_list, False otherwise\n",
        "\n",
        "    Example:\n",
        "    >>> is_word(word_list, 'bat') returns\n",
        "    True\n",
        "    >>> is_word(word_list, 'asdf') returns\n",
        "    False\n",
        "    '''\n",
        "    word = word.lower()\n",
        "    word = word.strip(\" !@#$%^&*()-_+={}[]|\\:;'<>?,./\\\"\")\n",
        "    return word in word_list\n",
        "\n",
        "### DO NOT MODIFY THIS FUNCTION ###\n",
        "def get_story_string():\n",
        "    \"\"\"\n",
        "    Returns: a joke in encrypted text.\n",
        "    \"\"\"\n",
        "    f = open(\"story.txt\", \"r\")\n",
        "    story = str(f.read())\n",
        "    f.close()\n",
        "    return story\n",
        "\n",
        "WORDLIST_FILENAME = 'words.txt'\n",
        "\n"
      ]
    },
    {
      "cell_type": "markdown",
      "source": [
        "Problem 1"
      ],
      "metadata": {
        "id": "EGqhc9ybOXgl"
      }
    },
    {
      "cell_type": "code",
      "source": [
        "class Message(object):\n",
        "    ### DO NOT MODIFY THIS METHOD ###\n",
        "    def __init__(self, text):\n",
        "        '''\n",
        "        Initializes a Message object\n",
        "                \n",
        "        text (string): the message's text\n",
        "\n",
        "        a Message object has two attributes:\n",
        "            self.message_text (string, determined by input text)\n",
        "            self.valid_words (list, determined using helper function load_words\n",
        "        '''\n",
        "        self.message_text = text\n",
        "        self.valid_words = load_words(WORDLIST_FILENAME)\n",
        "\n",
        "    ### DO NOT MODIFY THIS METHOD ###\n",
        "    def get_message_text(self):\n",
        "        '''\n",
        "        Used to safely access self.message_text outside of the class\n",
        "        \n",
        "        Returns: self.message_text\n",
        "        '''\n",
        "        return self.message_text\n",
        "\n",
        "    ### DO NOT MODIFY THIS METHOD ###\n",
        "    def get_valid_words(self):\n",
        "        '''\n",
        "        Used to safely access a copy of self.valid_words outside of the class\n",
        "        \n",
        "        Returns: a COPY of self.valid_words\n",
        "        '''\n",
        "        return self.valid_words[:]\n",
        "        \n",
        "    def build_shift_dict(self, shift):\n",
        "        '''\n",
        "        Creates a dictionary that can be used to apply a cipher to a letter.\n",
        "        The dictionary maps every uppercase and lowercase letter to a\n",
        "        character shifted down the alphabet by the input shift. The dictionary\n",
        "        should have 52 keys of all the uppercase letters and all the lowercase\n",
        "        letters only.        \n",
        "        \n",
        "        shift (integer): the amount by which to shift every letter of the \n",
        "        alphabet. 0 <= shift < 26\n",
        "\n",
        "        Returns: a dictionary mapping a letter (string) to \n",
        "                 another letter (string). \n",
        "        '''\n",
        "        \n",
        "        lowerKey = string.ascii_lowercase\n",
        "        lowerVal = string.ascii_lowercase\n",
        "        upperKey = string.ascii_uppercase\n",
        "        upperVal = string.ascii_uppercase\n",
        "        \n",
        "        lowerValShift = lowerVal[shift:] + lowerVal[:shift]\n",
        "        upperValShift = upperVal[shift:] + upperVal[:shift]\n",
        "\n",
        "        keys = lowerKey + upperKey\n",
        "        vals = lowerValShift + upperValShift\n",
        "        self.shift_dict = dict(zip(keys, vals))\n",
        "        return self.shift_dict\n",
        "\n",
        "    def apply_shift(self, shift):\n",
        "        '''\n",
        "        Applies the Caesar Cipher to self.message_text with the input shift.\n",
        "        Creates a new string that is self.message_text shifted down the\n",
        "        alphabet by some number of characters determined by the input shift        \n",
        "        \n",
        "        shift (integer): the shift with which to encrypt the message.\n",
        "        0 <= shift < 26\n",
        "\n",
        "        Returns: the message text (string) in which every character is shifted\n",
        "             down the alphabet by the input shift\n",
        "        '''\n",
        "        \n",
        "        encryptedMessage = self.message_text\n",
        "        enMsg = '' \n",
        "        for i in encryptedMessage:\n",
        "          if i not in self.build_shift_dict(shift):\n",
        "            enMsg += i\n",
        "          else:\n",
        "            enMsg += self.build_shift_dict(shift)[i]\n",
        "\n",
        "        return enMsg\n"
      ],
      "metadata": {
        "id": "bQwNsu39NgOn"
      },
      "execution_count": 105,
      "outputs": []
    },
    {
      "cell_type": "markdown",
      "source": [
        "Problem 2"
      ],
      "metadata": {
        "id": "JSw8xfhgOVeB"
      }
    },
    {
      "cell_type": "code",
      "source": [
        "class PlaintextMessage(Message):\n",
        "    def __init__(self, text, shift):\n",
        "        '''\n",
        "        Initializes a PlaintextMessage object        \n",
        "        \n",
        "        text (string): the message's text\n",
        "        shift (integer): the shift associated with this message\n",
        "\n",
        "        A PlaintextMessage object inherits from Message and has five attributes:\n",
        "            self.message_text (string, determined by input text)\n",
        "            self.valid_words (list, determined using helper function load_words)\n",
        "            self.shift (integer, determined by input shift)\n",
        "            self.encrypting_dict (dictionary, built using shift)\n",
        "            self.message_text_encrypted (string, created using shift)\n",
        "\n",
        "        Hint: consider using the parent class constructor so less \n",
        "        code is repeated\n",
        "        '''\n",
        "        Message.__init__(self, text)\n",
        "        self.shift = shift\n",
        "        self.encrypting_dict = self.build_shift_dict(self.shift)\n",
        "        self.message_text_encrypted = self.apply_shift(self.shift)\n",
        "\n",
        "    def get_shift(self):\n",
        "        '''\n",
        "        Used to safely access self.shift outside of the class\n",
        "        \n",
        "        Returns: self.shift\n",
        "        '''\n",
        "        return self.shift\n",
        "\n",
        "    def get_encrypting_dict(self):\n",
        "        '''\n",
        "        Used to safely access a copy self.encrypting_dict outside of the class\n",
        "        \n",
        "        Returns: a COPY of self.encrypting_dict\n",
        "        '''\n",
        "        copyEncDict = self.encrypting_dict.copy()\n",
        "        return self.encrypting_dict\n",
        "\n",
        "    def get_message_text_encrypted(self):\n",
        "        '''\n",
        "        Used to safely access self.message_text_encrypted outside of the class\n",
        "        \n",
        "        Returns: self.message_text_encrypted\n",
        "        '''\n",
        "        return self.message_text_encrypted\n",
        "\n",
        "    def change_shift(self, shift):\n",
        "        '''\n",
        "        Changes self.shift of the PlaintextMessage and updates other \n",
        "        attributes determined by shift (ie. self.encrypting_dict and \n",
        "        message_text_encrypted).\n",
        "        \n",
        "        shift (integer): the new shift that should be associated with this message.\n",
        "        0 <= shift < 26\n",
        "\n",
        "        Returns: nothing\n",
        "        '''\n",
        "        self.shift = shift\n",
        "        self.encrypting_dict = self.build_shift_dict(shift)\n",
        "        self.message_text_encrypted = self.apply_shift(shift)\n",
        "\n",
        "\n",
        "\n"
      ],
      "metadata": {
        "id": "eKR-YmLNNjP8"
      },
      "execution_count": 123,
      "outputs": []
    },
    {
      "cell_type": "markdown",
      "source": [
        "Problem 3"
      ],
      "metadata": {
        "id": "9yhm6S8fr4T8"
      }
    },
    {
      "cell_type": "code",
      "source": [
        "class CiphertextMessage(Message):\n",
        "    def __init__(self, text):\n",
        "        '''\n",
        "        Initializes a CiphertextMessage object\n",
        "                \n",
        "        text (string): the message's text\n",
        "\n",
        "        a CiphertextMessage object has two attributes:\n",
        "            self.message_text (string, determined by input text)\n",
        "            self.valid_words (list, determined using helper function load_words)\n",
        "        '''\n",
        "        Message.__init__(self, text)\n",
        "\n",
        "\n",
        "    def decrypt_message(self):\n",
        "        '''\n",
        "        Decrypt self.message_text by trying every possible shift value\n",
        "        and find the \"best\" one. We will define \"best\" as the shift that\n",
        "        creates the maximum number of real words when we use apply_shift(shift)\n",
        "        on the message text. If s is the original shift value used to encrypt\n",
        "        the message, then we would expect 26 - s to be the best shift value \n",
        "        for decrypting it.\n",
        "\n",
        "        Note: if multiple shifts are  equally good such that they all create \n",
        "        the maximum number of you may choose any of those shifts (and their\n",
        "        corresponding decrypted messages) to return\n",
        "\n",
        "        Returns: a tuple of the best shift value used to decrypt the message\n",
        "        and the decrypted message text using that shift value\n",
        "        '''\n",
        "        maxWordCount = 0\n",
        "        shiftVal = 0\n",
        "        enMsg = ''\n",
        "        for i in range(26):\n",
        "          currentWordCount = 0\n",
        "          for v in self.apply_shift(i).split():\n",
        "            if is_word(self.valid_words, v):\n",
        "              currentWordCount += 1\n",
        "            if currentWordCount > maxWordCount:\n",
        "              shiftVal = i\n",
        "              maxWordCount = currentWordCount\n",
        "        enMsg = self.apply_shift(shiftVal)\n",
        "        return (shiftVal, enMsg)\n",
        "\n"
      ],
      "metadata": {
        "id": "NKI5XXafNlvi"
      },
      "execution_count": 164,
      "outputs": []
    },
    {
      "cell_type": "code",
      "source": [
        "#Example test case (PlaintextMessage)\n",
        "plaintext = PlaintextMessage('hello,', 7)\n",
        "print('Expected Output: olssv,')\n",
        "print('Actual Output:', plaintext.get_message_text_encrypted())\n",
        "    \n",
        "#Example test case (CiphertextMessage)\n",
        "ciphertext = CiphertextMessage('olssv,')\n",
        "print('Expected Output:', (19, 'hello,'))\n",
        "print('Actual Output:', ciphertext.decrypt_message())"
      ],
      "metadata": {
        "id": "8_9ORhVnNm8g"
      },
      "execution_count": null,
      "outputs": []
    },
    {
      "cell_type": "markdown",
      "source": [
        "Problem 4"
      ],
      "metadata": {
        "id": "Tw2mP-Wprnqm"
      }
    },
    {
      "cell_type": "code",
      "source": [
        "story = CiphertextMessage(get_story_string())\n",
        "print(story.decrypt_message())"
      ],
      "metadata": {
        "colab": {
          "base_uri": "https://localhost:8080/"
        },
        "id": "h2EOguIoaYy5",
        "outputId": "9789bbc6-84d8-43fd-fef1-e7a295c6ab59"
      },
      "execution_count": 169,
      "outputs": [
        {
          "output_type": "stream",
          "name": "stdout",
          "text": [
            "Loading word list from file...\n",
            "   55901 words loaded.\n",
            "(16, 'Jack Florey is a mythical character created on the spur of a moment to help cover an insufficiently planned hack. He has been registered for classes at MIT twice before, but has reportedly never passed a class. It has been the tradition of the residents of East Campus to become Jack Florey for a few nights each year to educate incoming students in the ways, means, and ethics of hacking.')\n"
          ]
        }
      ]
    }
  ]
}